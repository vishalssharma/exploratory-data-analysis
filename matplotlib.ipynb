{
 "cells": [
  {
   "cell_type": "code",
   "execution_count": 1,
   "metadata": {},
   "outputs": [],
   "source": [
    "import matplotlib.pyplot as plt\n",
    "import numpy as np"
   ]
  },
  {
   "cell_type": "code",
   "execution_count": 2,
   "metadata": {},
   "outputs": [],
   "source": [
    "%matplotlib inline"
   ]
  },
  {
   "cell_type": "code",
   "execution_count": 5,
   "metadata": {},
   "outputs": [
    {
     "data": {
      "text/plain": [
       "array([ 0.        ,  0.52631579,  1.05263158,  1.57894737,  2.10526316,\n",
       "        2.63157895,  3.15789474,  3.68421053,  4.21052632,  4.73684211,\n",
       "        5.26315789,  5.78947368,  6.31578947,  6.84210526,  7.36842105,\n",
       "        7.89473684,  8.42105263,  8.94736842,  9.47368421, 10.        ])"
      ]
     },
     "execution_count": 5,
     "metadata": {},
     "output_type": "execute_result"
    }
   ],
   "source": [
    "x = np.linspace(0,10,20)\n",
    "x"
   ]
  },
  {
   "cell_type": "code",
   "execution_count": 6,
   "metadata": {},
   "outputs": [
    {
     "data": {
      "text/plain": [
       "array([40, 22, 11, 27, 43,  4, 34,  6, 48, 35, 39,  2, 33, 13, 49, 32, 30,\n",
       "       42, 23, 13])"
      ]
     },
     "execution_count": 6,
     "metadata": {},
     "output_type": "execute_result"
    }
   ],
   "source": [
    "y = np.random.randint(0,50,20)\n",
    "y"
   ]
  },
  {
   "cell_type": "code",
   "execution_count": 7,
   "metadata": {},
   "outputs": [
    {
     "data": {
      "text/plain": [
       "20"
      ]
     },
     "execution_count": 7,
     "metadata": {},
     "output_type": "execute_result"
    }
   ],
   "source": [
    "y.size"
   ]
  },
  {
   "cell_type": "code",
   "execution_count": 8,
   "metadata": {},
   "outputs": [
    {
     "data": {
      "text/plain": [
       "<module 'matplotlib.pyplot' from 'C:\\\\Users\\\\VISHAL\\\\Anaconda3\\\\lib\\\\site-packages\\\\matplotlib\\\\pyplot.py'>"
      ]
     },
     "execution_count": 8,
     "metadata": {},
     "output_type": "execute_result"
    }
   ],
   "source": [
    "plt"
   ]
  },
  {
   "cell_type": "code",
   "execution_count": 9,
   "metadata": {},
   "outputs": [
    {
     "data": {
      "text/plain": [
       "['Annotation',\n",
       " 'Arrow',\n",
       " 'Artist',\n",
       " 'AutoLocator',\n",
       " 'Axes',\n",
       " 'Button',\n",
       " 'Circle',\n",
       " 'Figure',\n",
       " 'FigureCanvasBase',\n",
       " 'FixedFormatter',\n",
       " 'FixedLocator',\n",
       " 'FormatStrFormatter',\n",
       " 'Formatter',\n",
       " 'FuncFormatter',\n",
       " 'GridSpec',\n",
       " 'IndexLocator',\n",
       " 'Line2D',\n",
       " 'LinearLocator',\n",
       " 'Locator',\n",
       " 'LogFormatter',\n",
       " 'LogFormatterExponent',\n",
       " 'LogFormatterMathtext',\n",
       " 'LogLocator',\n",
       " 'MaxNLocator',\n",
       " 'MultipleLocator',\n",
       " 'Normalize',\n",
       " 'NullFormatter',\n",
       " 'NullLocator',\n",
       " 'Number',\n",
       " 'PolarAxes',\n",
       " 'Polygon',\n",
       " 'Rectangle',\n",
       " 'ScalarFormatter',\n",
       " 'Slider',\n",
       " 'Subplot',\n",
       " 'SubplotTool',\n",
       " 'Text',\n",
       " 'TickHelper',\n",
       " 'Widget',\n",
       " '_INSTALL_FIG_OBSERVER',\n",
       " '_IP_REGISTERED',\n",
       " '__builtins__',\n",
       " '__cached__',\n",
       " '__doc__',\n",
       " '__file__',\n",
       " '__loader__',\n",
       " '__name__',\n",
       " '__package__',\n",
       " '__spec__',\n",
       " '_auto_draw_if_interactive',\n",
       " '_backend_mod',\n",
       " '_get_running_interactive_framework',\n",
       " '_interactive_bk',\n",
       " '_log',\n",
       " '_pylab_helpers',\n",
       " '_setp',\n",
       " '_setup_pyplot_info_docstrings',\n",
       " '_show',\n",
       " 'acorr',\n",
       " 'angle_spectrum',\n",
       " 'annotate',\n",
       " 'arrow',\n",
       " 'autoscale',\n",
       " 'autumn',\n",
       " 'axes',\n",
       " 'axhline',\n",
       " 'axhspan',\n",
       " 'axis',\n",
       " 'axvline',\n",
       " 'axvspan',\n",
       " 'bar',\n",
       " 'barbs',\n",
       " 'barh',\n",
       " 'bone',\n",
       " 'box',\n",
       " 'boxplot',\n",
       " 'broken_barh',\n",
       " 'cbook',\n",
       " 'cla',\n",
       " 'clabel',\n",
       " 'clf',\n",
       " 'clim',\n",
       " 'close',\n",
       " 'cm',\n",
       " 'cohere',\n",
       " 'colorbar',\n",
       " 'colormaps',\n",
       " 'connect',\n",
       " 'contour',\n",
       " 'contourf',\n",
       " 'cool',\n",
       " 'copper',\n",
       " 'csd',\n",
       " 'cycler',\n",
       " 'dedent',\n",
       " 'delaxes',\n",
       " 'deprecated',\n",
       " 'disconnect',\n",
       " 'docstring',\n",
       " 'draw',\n",
       " 'draw_all',\n",
       " 'draw_if_interactive',\n",
       " 'errorbar',\n",
       " 'eventplot',\n",
       " 'figaspect',\n",
       " 'figimage',\n",
       " 'figlegend',\n",
       " 'fignum_exists',\n",
       " 'figtext',\n",
       " 'figure',\n",
       " 'fill',\n",
       " 'fill_between',\n",
       " 'fill_betweenx',\n",
       " 'findobj',\n",
       " 'flag',\n",
       " 'functools',\n",
       " 'gca',\n",
       " 'gcf',\n",
       " 'gci',\n",
       " 'get',\n",
       " 'get_backend',\n",
       " 'get_cmap',\n",
       " 'get_current_fig_manager',\n",
       " 'get_figlabels',\n",
       " 'get_fignums',\n",
       " 'get_plot_commands',\n",
       " 'get_scale_docs',\n",
       " 'get_scale_names',\n",
       " 'getp',\n",
       " 'ginput',\n",
       " 'gray',\n",
       " 'grid',\n",
       " 'hexbin',\n",
       " 'hist',\n",
       " 'hist2d',\n",
       " 'hlines',\n",
       " 'hot',\n",
       " 'hsv',\n",
       " 'importlib',\n",
       " 'imread',\n",
       " 'imsave',\n",
       " 'imshow',\n",
       " 'inferno',\n",
       " 'inspect',\n",
       " 'install_repl_displayhook',\n",
       " 'interactive',\n",
       " 'ioff',\n",
       " 'ion',\n",
       " 'isinteractive',\n",
       " 'jet',\n",
       " 'legend',\n",
       " 'locator_params',\n",
       " 'logging',\n",
       " 'loglog',\n",
       " 'magma',\n",
       " 'magnitude_spectrum',\n",
       " 'margins',\n",
       " 'matplotlib',\n",
       " 'matshow',\n",
       " 'minorticks_off',\n",
       " 'minorticks_on',\n",
       " 'mlab',\n",
       " 'new_figure_manager',\n",
       " 'nipy_spectral',\n",
       " 'np',\n",
       " 'pause',\n",
       " 'pcolor',\n",
       " 'pcolormesh',\n",
       " 'phase_spectrum',\n",
       " 'pie',\n",
       " 'pink',\n",
       " 'plasma',\n",
       " 'plot',\n",
       " 'plot_date',\n",
       " 'plotfile',\n",
       " 'plotting',\n",
       " 'polar',\n",
       " 'prism',\n",
       " 'psd',\n",
       " 'pylab_setup',\n",
       " 'quiver',\n",
       " 'quiverkey',\n",
       " 'rc',\n",
       " 'rcParams',\n",
       " 'rcParamsDefault',\n",
       " 'rcParamsOrig',\n",
       " 'rc_context',\n",
       " 'rcdefaults',\n",
       " 'rcsetup',\n",
       " 're',\n",
       " 'register_cmap',\n",
       " 'rgrids',\n",
       " 'savefig',\n",
       " 'sca',\n",
       " 'scatter',\n",
       " 'sci',\n",
       " 'semilogx',\n",
       " 'semilogy',\n",
       " 'set_cmap',\n",
       " 'set_loglevel',\n",
       " 'setp',\n",
       " 'show',\n",
       " 'silent_list',\n",
       " 'specgram',\n",
       " 'spring',\n",
       " 'spy',\n",
       " 'stackplot',\n",
       " 'stem',\n",
       " 'step',\n",
       " 'streamplot',\n",
       " 'style',\n",
       " 'subplot',\n",
       " 'subplot2grid',\n",
       " 'subplot_tool',\n",
       " 'subplots',\n",
       " 'subplots_adjust',\n",
       " 'summer',\n",
       " 'suptitle',\n",
       " 'switch_backend',\n",
       " 'sys',\n",
       " 'table',\n",
       " 'text',\n",
       " 'thetagrids',\n",
       " 'tick_params',\n",
       " 'ticklabel_format',\n",
       " 'tight_layout',\n",
       " 'time',\n",
       " 'title',\n",
       " 'tricontour',\n",
       " 'tricontourf',\n",
       " 'tripcolor',\n",
       " 'triplot',\n",
       " 'twinx',\n",
       " 'twiny',\n",
       " 'uninstall_repl_displayhook',\n",
       " 'violinplot',\n",
       " 'viridis',\n",
       " 'vlines',\n",
       " 'waitforbuttonpress',\n",
       " 'warn_deprecated',\n",
       " 'winter',\n",
       " 'xcorr',\n",
       " 'xkcd',\n",
       " 'xlabel',\n",
       " 'xlim',\n",
       " 'xscale',\n",
       " 'xticks',\n",
       " 'ylabel',\n",
       " 'ylim',\n",
       " 'yscale',\n",
       " 'yticks']"
      ]
     },
     "execution_count": 9,
     "metadata": {},
     "output_type": "execute_result"
    }
   ],
   "source": [
    "dir(plt)"
   ]
  },
  {
   "cell_type": "code",
   "execution_count": 10,
   "metadata": {},
   "outputs": [
    {
     "data": {
      "text/plain": [
       "[<matplotlib.lines.Line2D at 0x1a1fa31f188>]"
      ]
     },
     "execution_count": 10,
     "metadata": {},
     "output_type": "execute_result"
    },
    {
     "data": {
      "image/png": "[encoded data removed]",
      "text/plain": [
       "<Figure size 432x288 with 1 Axes>"
      ]
     },
     "metadata": {
      "needs_background": "light"
     },
     "output_type": "display_data"
    }
   ],
   "source": [
    "plt.plot(y)"
   ]
  },
  {
   "cell_type": "code",
   "execution_count": 11,
   "metadata": {},
   "outputs": [],
   "source": [
    "y.sort()"
   ]
  },
  {
   "cell_type": "code",
   "execution_count": 12,
   "metadata": {},
   "outputs": [
    {
     "data": {
      "text/plain": [
       "[<matplotlib.lines.Line2D at 0x1a1fd6ea188>]"
      ]
     },
     "execution_count": 12,
     "metadata": {},
     "output_type": "execute_result"
    },
    {
     "data": {
      "image/png": "[encoded data removed]",
      "text/plain": [
       "<Figure size 432x288 with 1 Axes>"
      ]
     },
     "metadata": {
      "needs_background": "light"
     },
     "output_type": "display_data"
    }
   ],
   "source": [
    "plt.plot(y)"
   ]
  },
  {
   "cell_type": "code",
   "execution_count": 16,
   "metadata": {},
   "outputs": [
    {
     "data": {
      "text/plain": [
       "[<matplotlib.lines.Line2D at 0x1a1fd8aa188>]"
      ]
     },
     "execution_count": 16,
     "metadata": {},
     "output_type": "execute_result"
    },
    {
     "data": {
      "image/png": "[encoded data removed]",
      "text/plain": [
       "<Figure size 432x288 with 1 Axes>"
      ]
     },
     "metadata": {
      "needs_background": "light"
     },
     "output_type": "display_data"
    }
   ],
   "source": [
    "plt.plot(x,y,'r')"
   ]
  },
  {
   "cell_type": "code",
   "execution_count": 20,
   "metadata": {},
   "outputs": [
    {
     "data": {
      "image/png": "[encoded data removed]",
      "text/plain": [
       "<Figure size 432x288 with 1 Axes>"
      ]
     },
     "metadata": {
      "needs_background": "light"
     },
     "output_type": "display_data"
    }
   ],
   "source": [
    "plt.plot(x,y,'r')\n",
    "plt.xlabel('X axis')\n",
    "plt.ylabel('Y axis')\n",
    "plt.title('X Vs Y')\n",
    "plt.show()"
   ]
  },
  {
   "cell_type": "markdown",
   "metadata": {},
   "source": [
    "# MULTI CANVAS"
   ]
  },
  {
   "cell_type": "code",
   "execution_count": 24,
   "metadata": {},
   "outputs": [],
   "source": [
    "y2 = y**2"
   ]
  },
  {
   "cell_type": "code",
   "execution_count": 28,
   "metadata": {},
   "outputs": [
    {
     "data": {
      "text/plain": [
       "[<matplotlib.lines.Line2D at 0x1a1fde06308>]"
      ]
     },
     "execution_count": 28,
     "metadata": {},
     "output_type": "execute_result"
    },
    {
     "data": {
      "image/png": "[encoded data removed]",
      "text/plain": [
       "<Figure size 432x288 with 2 Axes>"
      ]
     },
     "metadata": {
      "needs_background": "light"
     },
     "output_type": "display_data"
    }
   ],
   "source": [
    "plt.subplot(1,2,1)\n",
    "plt.plot(x,y,'ro--',markersize=12)\n",
    "plt.subplot(1,2,2)\n",
    "plt.plot(x,y2,'b*-')"
   ]
  },
  {
   "cell_type": "markdown",
   "metadata": {},
   "source": [
    "# matlab vs matplotlib"
   ]
  },
  {
   "cell_type": "code",
   "execution_count": 29,
   "metadata": {},
   "outputs": [],
   "source": [
    "# object oriented way"
   ]
  },
  {
   "cell_type": "code",
   "execution_count": 34,
   "metadata": {},
   "outputs": [
    {
     "data": {
      "text/plain": [
       "Text(0.5, 1.0, 'X Vs Y')"
      ]
     },
     "execution_count": 34,
     "metadata": {},
     "output_type": "execute_result"
    },
    {
     "data": {
      "image/png": "[encoded data removed]",
      "text/plain": [
       "<Figure size 432x288 with 1 Axes>"
      ]
     },
     "metadata": {
      "needs_background": "light"
     },
     "output_type": "display_data"
    }
   ],
   "source": [
    "fig = plt.figure()\n",
    "axis = fig.add_axes([0.1,0.1,1,1])\n",
    "\n",
    "axis.plot(x,y,'r')\n",
    "axis.set_xlabel('X')\n",
    "axis.set_ylabel('Y')\n",
    "axis.set_title('X Vs Y')"
   ]
  },
  {
   "cell_type": "code",
   "execution_count": 35,
   "metadata": {},
   "outputs": [
    {
     "data": {
      "text/plain": [
       "['__class__',\n",
       " '__delattr__',\n",
       " '__dict__',\n",
       " '__dir__',\n",
       " '__doc__',\n",
       " '__eq__',\n",
       " '__format__',\n",
       " '__ge__',\n",
       " '__getattribute__',\n",
       " '__getstate__',\n",
       " '__gt__',\n",
       " '__hash__',\n",
       " '__init__',\n",
       " '__init_subclass__',\n",
       " '__le__',\n",
       " '__lt__',\n",
       " '__module__',\n",
       " '__ne__',\n",
       " '__new__',\n",
       " '__reduce__',\n",
       " '__reduce_ex__',\n",
       " '__repr__',\n",
       " '__setattr__',\n",
       " '__setstate__',\n",
       " '__sizeof__',\n",
       " '__str__',\n",
       " '__subclasshook__',\n",
       " '__weakref__',\n",
       " '_add_text',\n",
       " '_adjustable',\n",
       " '_agg_filter',\n",
       " '_alpha',\n",
       " '_anchor',\n",
       " '_animated',\n",
       " '_aspect',\n",
       " '_autoscaleXon',\n",
       " '_autoscaleYon',\n",
       " '_autotitlepos',\n",
       " '_axes',\n",
       " '_axes_locator',\n",
       " '_axisbelow',\n",
       " '_clipon',\n",
       " '_clippath',\n",
       " '_connected',\n",
       " '_contains',\n",
       " '_convert_dx',\n",
       " '_current_image',\n",
       " '_facecolor',\n",
       " '_frameon',\n",
       " '_gci',\n",
       " '_gen_axes_patch',\n",
       " '_gen_axes_spines',\n",
       " '_get_axis_list',\n",
       " '_get_clipping_extent_bbox',\n",
       " '_get_lines',\n",
       " '_get_patches_for_fill',\n",
       " '_get_view',\n",
       " '_gid',\n",
       " '_gridOn',\n",
       " '_in_layout',\n",
       " '_init_axis',\n",
       " '_label',\n",
       " '_layoutbox',\n",
       " '_left_title',\n",
       " '_make_twin_axes',\n",
       " '_mouseover',\n",
       " '_mouseover_set',\n",
       " '_navigate',\n",
       " '_navigate_mode',\n",
       " '_oid',\n",
       " '_on_units_changed',\n",
       " '_originalPosition',\n",
       " '_parse_scatter_color_args',\n",
       " '_path_effects',\n",
       " '_pcolorargs',\n",
       " '_picker',\n",
       " '_position',\n",
       " '_poslayoutbox',\n",
       " '_process_unit_info',\n",
       " '_prop_order',\n",
       " '_propobservers',\n",
       " '_quiver_units',\n",
       " '_rasterization_zorder',\n",
       " '_rasterized',\n",
       " '_remove_legend',\n",
       " '_remove_method',\n",
       " '_right_title',\n",
       " '_sci',\n",
       " '_set_artist_props',\n",
       " '_set_gc_clip',\n",
       " '_set_lim_and_transforms',\n",
       " '_set_position',\n",
       " '_set_title_offset_trans',\n",
       " '_set_view',\n",
       " '_set_view_from_bbox',\n",
       " '_shared_x_axes',\n",
       " '_shared_y_axes',\n",
       " '_sharex',\n",
       " '_sharey',\n",
       " '_sketch',\n",
       " '_snap',\n",
       " '_stale',\n",
       " '_sticky_edges',\n",
       " '_tight',\n",
       " '_transform',\n",
       " '_transformSet',\n",
       " '_twinned_axes',\n",
       " '_update_image_limits',\n",
       " '_update_line_limits',\n",
       " '_update_patch_limits',\n",
       " '_update_title_position',\n",
       " '_update_transScale',\n",
       " '_url',\n",
       " '_use_sticky_edges',\n",
       " '_validate_converted_limits',\n",
       " '_visible',\n",
       " '_xaxis_transform',\n",
       " '_xcid',\n",
       " '_xmargin',\n",
       " '_yaxis_transform',\n",
       " '_ycid',\n",
       " '_ymargin',\n",
       " 'acorr',\n",
       " 'add_artist',\n",
       " 'add_callback',\n",
       " 'add_child_axes',\n",
       " 'add_collection',\n",
       " 'add_container',\n",
       " 'add_image',\n",
       " 'add_line',\n",
       " 'add_patch',\n",
       " 'add_table',\n",
       " 'aname',\n",
       " 'angle_spectrum',\n",
       " 'annotate',\n",
       " 'apply_aspect',\n",
       " 'arrow',\n",
       " 'artists',\n",
       " 'autoscale',\n",
       " 'autoscale_view',\n",
       " 'axes',\n",
       " 'axhline',\n",
       " 'axhspan',\n",
       " 'axis',\n",
       " 'axison',\n",
       " 'axvline',\n",
       " 'axvspan',\n",
       " 'bar',\n",
       " 'barbs',\n",
       " 'barh',\n",
       " 'bbox',\n",
       " 'boxplot',\n",
       " 'broken_barh',\n",
       " 'bxp',\n",
       " 'callbacks',\n",
       " 'can_pan',\n",
       " 'can_zoom',\n",
       " 'child_axes',\n",
       " 'cla',\n",
       " 'clabel',\n",
       " 'clear',\n",
       " 'clipbox',\n",
       " 'cohere',\n",
       " 'collections',\n",
       " 'containers',\n",
       " 'contains',\n",
       " 'contains_point',\n",
       " 'contour',\n",
       " 'contourf',\n",
       " 'convert_xunits',\n",
       " 'convert_yunits',\n",
       " 'csd',\n",
       " 'dataLim',\n",
       " 'drag_pan',\n",
       " 'draw',\n",
       " 'draw_artist',\n",
       " 'end_pan',\n",
       " 'errorbar',\n",
       " 'eventplot',\n",
       " 'eventson',\n",
       " 'figure',\n",
       " 'fill',\n",
       " 'fill_between',\n",
       " 'fill_betweenx',\n",
       " 'findobj',\n",
       " 'fmt_xdata',\n",
       " 'fmt_ydata',\n",
       " 'format_coord',\n",
       " 'format_cursor_data',\n",
       " 'format_xdata',\n",
       " 'format_ydata',\n",
       " 'get_adjustable',\n",
       " 'get_agg_filter',\n",
       " 'get_alpha',\n",
       " 'get_anchor',\n",
       " 'get_animated',\n",
       " 'get_aspect',\n",
       " 'get_autoscale_on',\n",
       " 'get_autoscalex_on',\n",
       " 'get_autoscaley_on',\n",
       " 'get_axes_locator',\n",
       " 'get_axisbelow',\n",
       " 'get_children',\n",
       " 'get_clip_box',\n",
       " 'get_clip_on',\n",
       " 'get_clip_path',\n",
       " 'get_contains',\n",
       " 'get_cursor_data',\n",
       " 'get_data_ratio',\n",
       " 'get_data_ratio_log',\n",
       " 'get_default_bbox_extra_artists',\n",
       " 'get_facecolor',\n",
       " 'get_fc',\n",
       " 'get_figure',\n",
       " 'get_frame_on',\n",
       " 'get_gid',\n",
       " 'get_images',\n",
       " 'get_in_layout',\n",
       " 'get_label',\n",
       " 'get_legend',\n",
       " 'get_legend_handles_labels',\n",
       " 'get_lines',\n",
       " 'get_navigate',\n",
       " 'get_navigate_mode',\n",
       " 'get_path_effects',\n",
       " 'get_picker',\n",
       " 'get_position',\n",
       " 'get_rasterization_zorder',\n",
       " 'get_rasterized',\n",
       " 'get_renderer_cache',\n",
       " 'get_shared_x_axes',\n",
       " 'get_shared_y_axes',\n",
       " 'get_sketch_params',\n",
       " 'get_snap',\n",
       " 'get_tightbbox',\n",
       " 'get_title',\n",
       " 'get_transform',\n",
       " 'get_transformed_clip_path_and_affine',\n",
       " 'get_url',\n",
       " 'get_visible',\n",
       " 'get_window_extent',\n",
       " 'get_xaxis',\n",
       " 'get_xaxis_text1_transform',\n",
       " 'get_xaxis_text2_transform',\n",
       " 'get_xaxis_transform',\n",
       " 'get_xbound',\n",
       " 'get_xgridlines',\n",
       " 'get_xlabel',\n",
       " 'get_xlim',\n",
       " 'get_xmajorticklabels',\n",
       " 'get_xminorticklabels',\n",
       " 'get_xscale',\n",
       " 'get_xticklabels',\n",
       " 'get_xticklines',\n",
       " 'get_xticks',\n",
       " 'get_yaxis',\n",
       " 'get_yaxis_text1_transform',\n",
       " 'get_yaxis_text2_transform',\n",
       " 'get_yaxis_transform',\n",
       " 'get_ybound',\n",
       " 'get_ygridlines',\n",
       " 'get_ylabel',\n",
       " 'get_ylim',\n",
       " 'get_ymajorticklabels',\n",
       " 'get_yminorticklabels',\n",
       " 'get_yscale',\n",
       " 'get_yticklabels',\n",
       " 'get_yticklines',\n",
       " 'get_yticks',\n",
       " 'get_zorder',\n",
       " 'grid',\n",
       " 'has_data',\n",
       " 'have_units',\n",
       " 'hexbin',\n",
       " 'hist',\n",
       " 'hist2d',\n",
       " 'hlines',\n",
       " 'ignore_existing_data_limits',\n",
       " 'images',\n",
       " 'imshow',\n",
       " 'in_axes',\n",
       " 'indicate_inset',\n",
       " 'indicate_inset_zoom',\n",
       " 'inset_axes',\n",
       " 'invert_xaxis',\n",
       " 'invert_yaxis',\n",
       " 'is_transform_set',\n",
       " 'legend',\n",
       " 'legend_',\n",
       " 'lines',\n",
       " 'locator_params',\n",
       " 'loglog',\n",
       " 'magnitude_spectrum',\n",
       " 'margins',\n",
       " 'matshow',\n",
       " 'minorticks_off',\n",
       " 'minorticks_on',\n",
       " 'mouseover',\n",
       " 'mouseover_set',\n",
       " 'name',\n",
       " 'patch',\n",
       " 'patches',\n",
       " 'pchanged',\n",
       " 'pcolor',\n",
       " 'pcolorfast',\n",
       " 'pcolormesh',\n",
       " 'phase_spectrum',\n",
       " 'pick',\n",
       " 'pickable',\n",
       " 'pie',\n",
       " 'plot',\n",
       " 'plot_date',\n",
       " 'properties',\n",
       " 'psd',\n",
       " 'quiver',\n",
       " 'quiverkey',\n",
       " 'redraw_in_frame',\n",
       " 'relim',\n",
       " 'remove',\n",
       " 'remove_callback',\n",
       " 'reset_position',\n",
       " 'scatter',\n",
       " 'secondary_xaxis',\n",
       " 'secondary_yaxis',\n",
       " 'semilogx',\n",
       " 'semilogy',\n",
       " 'set',\n",
       " 'set_adjustable',\n",
       " 'set_agg_filter',\n",
       " 'set_alpha',\n",
       " 'set_anchor',\n",
       " 'set_animated',\n",
       " 'set_aspect',\n",
       " 'set_autoscale_on',\n",
       " 'set_autoscalex_on',\n",
       " 'set_autoscaley_on',\n",
       " 'set_axes_locator',\n",
       " 'set_axis_off',\n",
       " 'set_axis_on',\n",
       " 'set_axisbelow',\n",
       " 'set_clip_box',\n",
       " 'set_clip_on',\n",
       " 'set_clip_path',\n",
       " 'set_contains',\n",
       " 'set_facecolor',\n",
       " 'set_fc',\n",
       " 'set_figure',\n",
       " 'set_frame_on',\n",
       " 'set_gid',\n",
       " 'set_in_layout',\n",
       " 'set_label',\n",
       " 'set_navigate',\n",
       " 'set_navigate_mode',\n",
       " 'set_path_effects',\n",
       " 'set_picker',\n",
       " 'set_position',\n",
       " 'set_prop_cycle',\n",
       " 'set_rasterization_zorder',\n",
       " 'set_rasterized',\n",
       " 'set_sketch_params',\n",
       " 'set_snap',\n",
       " 'set_title',\n",
       " 'set_transform',\n",
       " 'set_url',\n",
       " 'set_visible',\n",
       " 'set_xbound',\n",
       " 'set_xlabel',\n",
       " 'set_xlim',\n",
       " 'set_xmargin',\n",
       " 'set_xscale',\n",
       " 'set_xticklabels',\n",
       " 'set_xticks',\n",
       " 'set_ybound',\n",
       " 'set_ylabel',\n",
       " 'set_ylim',\n",
       " 'set_ymargin',\n",
       " 'set_yscale',\n",
       " 'set_yticklabels',\n",
       " 'set_yticks',\n",
       " 'set_zorder',\n",
       " 'specgram',\n",
       " 'spines',\n",
       " 'spy',\n",
       " 'stackplot',\n",
       " 'stale',\n",
       " 'stale_callback',\n",
       " 'start_pan',\n",
       " 'stem',\n",
       " 'step',\n",
       " 'sticky_edges',\n",
       " 'streamplot',\n",
       " 'table',\n",
       " 'tables',\n",
       " 'text',\n",
       " 'texts',\n",
       " 'tick_params',\n",
       " 'ticklabel_format',\n",
       " 'title',\n",
       " 'titleOffsetTrans',\n",
       " 'transAxes',\n",
       " 'transData',\n",
       " 'transLimits',\n",
       " 'transScale',\n",
       " 'tricontour',\n",
       " 'tricontourf',\n",
       " 'tripcolor',\n",
       " 'triplot',\n",
       " 'twinx',\n",
       " 'twiny',\n",
       " 'update',\n",
       " 'update_datalim',\n",
       " 'update_datalim_bounds',\n",
       " 'update_from',\n",
       " 'use_sticky_edges',\n",
       " 'viewLim',\n",
       " 'violin',\n",
       " 'violinplot',\n",
       " 'vlines',\n",
       " 'xaxis',\n",
       " 'xaxis_date',\n",
       " 'xaxis_inverted',\n",
       " 'xcorr',\n",
       " 'yaxis',\n",
       " 'yaxis_date',\n",
       " 'yaxis_inverted',\n",
       " 'zorder']"
      ]
     },
     "execution_count": 35,
     "metadata": {},
     "output_type": "execute_result"
    }
   ],
   "source": [
    "dir(axis)"
   ]
  },
  {
   "cell_type": "code",
   "execution_count": 42,
   "metadata": {},
   "outputs": [
    {
     "data": {
      "text/plain": [
       "[<matplotlib.lines.Line2D at 0x1a18025a7c8>]"
      ]
     },
     "execution_count": 42,
     "metadata": {},
     "output_type": "execute_result"
    },
    {
     "data": {
      "image/png": "[encoded data removed]",
      "text/plain": [
       "<Figure size 432x288 with 2 Axes>"
      ]
     },
     "metadata": {
      "needs_background": "light"
     },
     "output_type": "display_data"
    }
   ],
   "source": [
    "fig = plt.figure()\n",
    "ax1 = fig.add_axes([0,0,1,1])\n",
    "ax2 = fig.add_axes([0.1,0.6,0.4,0.3])\n",
    "\n",
    "ax1.plot(x,y,'r')\n",
    "ax1.set_xlabel('X')\n",
    "ax2.plot(x,y2,'g')"
   ]
  },
  {
   "cell_type": "code",
   "execution_count": 45,
   "metadata": {},
   "outputs": [
    {
     "data": {
      "text/plain": [
       "[<matplotlib.lines.Line2D at 0x1a1806bb0c8>]"
      ]
     },
     "execution_count": 45,
     "metadata": {},
     "output_type": "execute_result"
    },
    {
     "data": {
      "image/png": "[encoded data removed]",
      "text/plain": [
       "<Figure size 432x288 with 2 Axes>"
      ]
     },
     "metadata": {
      "needs_background": "light"
     },
     "output_type": "display_data"
    }
   ],
   "source": [
    "fig , ax = plt.subplots(1,2)\n",
    "\n",
    "ax[0].plot(x,y,'b')\n",
    "ax[1].plot(x,y,'r')"
   ]
  },
  {
   "cell_type": "code",
   "execution_count": 50,
   "metadata": {},
   "outputs": [
    {
     "data": {
      "image/png": "[encoded data removed]",
      "text/plain": [
       "<Figure size 432x288 with 2 Axes>"
      ]
     },
     "metadata": {
      "needs_background": "light"
     },
     "output_type": "display_data"
    }
   ],
   "source": [
    "fig , ax = plt.subplots(1,2)\n",
    "col = ['r','g']\n",
    "data = [y,y2]\n",
    "for i, axes in enumerate(ax):\n",
    "    axes.plot(x,data[i],col[i])\n",
    "\n",
    "# avoid overlap\n",
    "fig.tight_layout()"
   ]
  },
  {
   "cell_type": "code",
   "execution_count": 62,
   "metadata": {},
   "outputs": [
    {
     "data": {
      "image/png": "[encoded data removed]",
      "text/plain": [
       "<Figure size 1000x600 with 1 Axes>"
      ]
     },
     "metadata": {
      "needs_background": "light"
     },
     "output_type": "display_data"
    }
   ],
   "source": [
    "fig , ax = plt.subplots( figsize = (10,6), dpi = 100)\n",
    "\n",
    "ax.plot(x,y,'r',label='y*x')\n",
    "ax.plot(x,y2,'b',label='y2*x')\n",
    "ax.set_xlabel('X')\n",
    "ax.set_ylabel('Y')\n",
    "ax.set_title('X Vs Y')\n",
    "ax.legend(loc = 0)\n",
    "fig.savefig('randmom file.png')"
   ]
  },
  {
   "cell_type": "code",
   "execution_count": 68,
   "metadata": {},
   "outputs": [
    {
     "data": {
      "text/plain": [
       "[<matplotlib.lines.Line2D at 0x1a180883a08>]"
      ]
     },
     "execution_count": 68,
     "metadata": {},
     "output_type": "execute_result"
    },
    {
     "data": {
      "image/png": "[encoded data removed]",
      "text/plain": [
       "<Figure size 432x288 with 1 Axes>"
      ]
     },
     "metadata": {
      "needs_background": "light"
     },
     "output_type": "display_data"
    }
   ],
   "source": [
    "fig , ax = plt.subplots()\n",
    "ax.plot(x,y,'bo-',markersize=6,linewidth=3)"
   ]
  },
  {
   "cell_type": "code",
   "execution_count": 73,
   "metadata": {},
   "outputs": [
    {
     "data": {
      "text/plain": [
       "(1, 4)"
      ]
     },
     "execution_count": 73,
     "metadata": {},
     "output_type": "execute_result"
    },
    {
     "data": {
      "image/png": "[encoded data removed]",
      "text/plain": [
       "<Figure size 864x288 with 3 Axes>"
      ]
     },
     "metadata": {
      "needs_background": "light"
     },
     "output_type": "display_data"
    }
   ],
   "source": [
    "fig , ax = plt.subplots(1,3,figsize=(12,4))\n",
    "\n",
    "ax[0].plot(x,y,x,y2)  # two plots simultaneously\n",
    "\n",
    "ax[1].plot(x,y**2,'k')\n",
    "ax[1].set_ylim([0,500])\n",
    "\n",
    "ax[2].plot(x,y,x,y2)\n",
    "ax[2].set_ylim([0,100])\n",
    "ax[2].set_xlim([1,4])\n",
    "\n"
   ]
  },
  {
   "cell_type": "code",
   "execution_count": 75,
   "metadata": {},
   "outputs": [
    {
     "data": {
      "text/plain": [
       "<matplotlib.collections.PathCollection at 0x1a1811a8ec8>"
      ]
     },
     "execution_count": 75,
     "metadata": {},
     "output_type": "execute_result"
    },
    {
     "data": {
      "image/png": "[encoded data removed]",
      "text/plain": [
       "<Figure size 432x288 with 1 Axes>"
      ]
     },
     "metadata": {
      "needs_background": "light"
     },
     "output_type": "display_data"
    }
   ],
   "source": [
    "plt.scatter(x,y)"
   ]
  },
  {
   "cell_type": "code",
   "execution_count": 80,
   "metadata": {},
   "outputs": [
    {
     "data": {
      "text/plain": [
       "<BarContainer object of 20 artists>"
      ]
     },
     "execution_count": 80,
     "metadata": {},
     "output_type": "execute_result"
    },
    {
     "data": {
      "image/png": "[encoded data removed]",
      "text/plain": [
       "<Figure size 432x288 with 1 Axes>"
      ]
     },
     "metadata": {
      "needs_background": "light"
     },
     "output_type": "display_data"
    }
   ],
   "source": [
    "plt.bar(y,height=50, width=0.5)"
   ]
  },
  {
   "cell_type": "code",
   "execution_count": 81,
   "metadata": {},
   "outputs": [],
   "source": [
    "from random import sample"
   ]
  },
  {
   "cell_type": "code",
   "execution_count": 82,
   "metadata": {},
   "outputs": [
    {
     "data": {
      "text/plain": [
       "[1102, 4342, 5929, 8238, 4717, 7879, 381, 5463, 7860, 6824]"
      ]
     },
     "execution_count": 82,
     "metadata": {},
     "output_type": "execute_result"
    }
   ],
   "source": [
    "data = sample(range(1,10000),10)\n",
    "data"
   ]
  },
  {
   "cell_type": "code",
   "execution_count": 83,
   "metadata": {},
   "outputs": [
    {
     "data": {
      "text/plain": [
       "(array([2., 0., 0., 0., 0., 2., 1., 1., 1., 3.]),\n",
       " array([ 381. , 1166.7, 1952.4, 2738.1, 3523.8, 4309.5, 5095.2, 5880.9,\n",
       "        6666.6, 7452.3, 8238. ]),\n",
       " <a list of 10 Patch objects>)"
      ]
     },
     "execution_count": 83,
     "metadata": {},
     "output_type": "execute_result"
    },
    {
     "data": {
      "image/png": "[encoded data removed]",
      "text/plain": [
       "<Figure size 432x288 with 1 Axes>"
      ]
     },
     "metadata": {
      "needs_background": "light"
     },
     "output_type": "display_data"
    }
   ],
   "source": [
    "plt.hist(data)"
   ]
  },
  {
   "cell_type": "code",
   "execution_count": null,
   "metadata": {},
   "outputs": [],
   "source": []
  },
  {
   "cell_type": "code",
   "execution_count": 85,
   "metadata": {},
   "outputs": [
    {
     "data": {
      "text/plain": [
       "[array([ 1.61043457,  0.74138556,  0.63564372, -0.83625297,  0.27578317,\n",
       "        -0.02283033, -1.66285005, -0.70089633, -1.335843  ,  1.47306516,\n",
       "        -0.68684648,  0.00319971, -0.13481371, -1.11635107, -0.72973068,\n",
       "         1.31024548,  0.31443329, -0.49975636, -1.3215529 , -0.59219826,\n",
       "         0.7751498 , -1.61593072,  0.14338067,  0.09798037,  0.04822685,\n",
       "         0.23049297, -0.71582994,  1.53699444,  0.21105734, -0.51459819,\n",
       "         0.37846556,  0.23881872,  1.33001706, -0.25615762,  1.25620241,\n",
       "        -1.14198426,  0.11855475,  0.44851582, -0.95470951, -1.23806403,\n",
       "         0.11188952, -0.84971052, -0.46939117, -1.20449109,  0.52104961,\n",
       "        -0.73585932,  0.28833339, -3.03343147,  0.05128231,  0.96038885,\n",
       "        -0.69129844,  1.43376612,  0.97046851, -0.90426833,  1.17954629,\n",
       "         0.13597552, -0.45566034,  1.00599957,  0.66176921, -0.62366676,\n",
       "        -0.17947013,  0.96886693, -1.06670541,  0.19379711,  0.96737477,\n",
       "        -0.82890059,  0.23979643, -0.99496894,  0.20536659, -0.82515936,\n",
       "        -0.30978757,  0.19364884, -0.79834792, -1.51166882,  0.10376785,\n",
       "        -0.10236934, -0.21018687, -0.04713507, -0.28347465, -1.51961766,\n",
       "         0.50836627,  0.73515949, -0.31101259, -0.40045336, -0.01815286,\n",
       "        -0.6669062 ,  0.60537397, -2.75448271,  0.99835087, -0.62357469,\n",
       "         0.62399645, -0.88308979, -0.49474134,  0.12450836,  0.32492606,\n",
       "         0.32153136,  1.21257907, -0.14285759,  0.62429154, -1.09163855]),\n",
       " array([ 0.30402792, -0.26858451, -1.42203444, -1.46240698,  0.6582084 ,\n",
       "        -1.50806769, -3.33755145, -2.83043264, -1.69553484,  0.24089399,\n",
       "        -2.55377493,  0.72679188,  1.02181325, -0.04815132,  0.38623368,\n",
       "        -4.37743168,  0.93511156, -1.1088357 ,  0.29861252, -1.17606882,\n",
       "        -0.6171956 , -6.58272313, -0.55606395, -1.9478138 , -1.96332364,\n",
       "        -4.96762932, -1.38060388, -3.03638979, -1.38916807,  2.00105615,\n",
       "         0.87535536, -1.49076769,  0.10693428,  2.25098819,  0.45623233,\n",
       "         1.42156156,  0.52409872,  0.11396792,  3.38287548,  3.08865053,\n",
       "         3.84023279, -0.81051485,  0.71489725, -3.11633097,  0.23958984,\n",
       "         1.4704947 , -1.35185095, -1.03117992, -0.55223155,  0.79736472,\n",
       "         0.91748943, -1.3336902 , -0.08714187, -0.39220791, -0.50552503,\n",
       "        -4.0943723 , -0.9815642 ,  0.14581297,  1.24530728, -0.23596683,\n",
       "         5.00655026, -2.5916981 , -0.3448484 , -1.01602937, -1.08944242,\n",
       "        -1.42195398, -3.5318948 , -2.5367264 ,  2.82739962, -0.58336023,\n",
       "         0.26531658, -0.79632308, -2.86540975,  3.49875   ,  4.74145066,\n",
       "         1.73270201,  1.0514952 , -2.4297641 , -1.2868122 , -0.77149075,\n",
       "         0.49742131,  0.95105392,  1.50392453, -2.31570189,  1.20430245,\n",
       "         0.67591102, -2.31829649, -0.2122742 , -2.85615448,  0.30770259,\n",
       "         2.87584512, -1.73123308,  0.3994583 , -0.25820625,  1.96233599,\n",
       "        -1.95439862, -3.40768636,  0.62511468, -2.66665383, -1.20027219]),\n",
       " array([-1.87210916,  1.73759761,  0.77052058,  0.27751197, -0.68296623,\n",
       "         4.28456102, -2.60300846,  5.72351487,  2.05290214,  2.38511951,\n",
       "        -1.09899159,  2.44404789,  2.79026195,  1.63760158,  0.37622187,\n",
       "         0.93247246,  2.22248559, -2.62529253,  2.21527133, -0.87322497,\n",
       "        -0.6671934 , -0.03935747,  1.44359025,  0.86194484, -2.11330995,\n",
       "        -3.41062693,  2.03451676, -0.83582166,  1.88114539, -0.41426827,\n",
       "         2.29830864,  3.64630118,  3.02088953, -0.59701013,  3.92302873,\n",
       "        -2.83405161, -3.84920086,  1.16351727,  2.49852725,  2.03700247,\n",
       "         0.524531  , -2.2166981 , -4.51735988,  0.70762265, -0.28118104,\n",
       "         1.9327916 , -6.42646704, -1.68783701,  3.32094076,  5.71350557,\n",
       "         1.70205302,  0.82597091, -1.99206461, -0.43824238,  0.8470509 ,\n",
       "        -2.85720309, -1.67812383,  0.52485255, -2.7055824 ,  3.90830724,\n",
       "         0.62712243,  1.76454506, -3.5442627 ,  0.03482521,  2.55931476,\n",
       "         2.1336083 , -0.13609419, -3.89569076,  0.04579729,  2.89456475,\n",
       "         2.90103399, -1.08272589, -4.97709064,  3.76334945,  2.28589259,\n",
       "         1.50160345, -0.66614587, -1.49725128, -4.11299612,  1.24437935,\n",
       "         1.58464002,  0.80835292,  1.80150421,  0.07600782,  5.08252124,\n",
       "         1.50719467,  0.87318803,  0.72580847, -1.42175437, -0.15705174,\n",
       "        -0.9376409 , -0.96670555,  2.05045529,  4.03737108, -1.52333797,\n",
       "        -3.26089599, -7.18622831,  4.87865242,  2.73552741,  6.07482412]),\n",
       " array([  1.04230877,  -5.00821227,  -3.08454644,  -3.11990316,\n",
       "         -6.45947615,   4.90189148,  -4.54404607,   4.89852733,\n",
       "          0.88628422,   8.46446255,   5.92137869,   0.0926769 ,\n",
       "         -1.63056838,   7.88000908,  -2.29397517,  -0.95457447,\n",
       "         -6.93001087, -10.85712841,  -1.7400728 ,   1.09205019,\n",
       "          0.97842446,  -1.26830649,  -3.95285699,  -7.93350779,\n",
       "         -2.59718868,   4.76368964,   4.62910172,  -4.77377867,\n",
       "          4.30020313,  -0.04789699,  -0.15384755,  -0.58219283,\n",
       "          3.41849813,   3.98259342,   2.57951827,  -1.21426574,\n",
       "         -3.48817494,  -0.63871506,  -1.32491356,   4.30575661,\n",
       "         -1.54741934,   6.60676039,   2.14458978,   0.25656032,\n",
       "          0.53831916,   5.58104152,  -1.35764836,   1.3026477 ,\n",
       "          1.9883017 ,   3.27309194,   1.84900783,  -0.82719787,\n",
       "         -0.07874341,  -1.13945477,   0.14153855,  -4.13661016,\n",
       "          5.53416337,  -8.85579172,  -1.4952934 ,   3.61726495,\n",
       "         -0.08325944,  10.0137631 ,   3.77752168,  -5.64600227,\n",
       "          6.26800094,  -3.86662347,   0.53097523,  -0.79494597,\n",
       "         -5.95121129,  -0.75864096,  -4.52337484,  -0.40058476,\n",
       "        -10.64677932,  -2.43296948,   6.69136386,  -2.6529568 ,\n",
       "          9.82445723,   5.68658659,  -0.07367008,  -3.76552433,\n",
       "          2.56288269,   6.10582378,   7.16754897,  -1.35612872,\n",
       "         -3.97803946,  -3.86153602,   4.13295176,  -2.55204367,\n",
       "         -0.25713087,   7.84885215,  -0.06452671,   3.15447269,\n",
       "         -1.88365396,  -8.2609966 ,  -1.97966113,  -0.63900171,\n",
       "          5.77788474,   1.22275383,   6.90677448,   3.19925621]),\n",
       " array([  8.36594213,   0.64245138,   1.34974811,   3.59047252,\n",
       "          2.93770687,   2.33576334,   5.1443331 ,   1.814335  ,\n",
       "          9.08693764,   9.15734334,  -6.18950544, -12.58225786,\n",
       "        -11.05690105,  -4.66202145,   2.29408165,  -2.11435831,\n",
       "         -4.40460764,  -7.47081962,  -1.38784039,   3.36121642,\n",
       "          5.83630974, -11.79844094,  -1.09102126,   4.07361896,\n",
       "        -11.32298099,   0.13262207,  -3.3995803 ,  -8.65144952,\n",
       "          1.53150324,   0.22705478,   8.61817124,  -4.82307979,\n",
       "          0.7789371 ,  10.34736239,  -0.54008248,  -7.49905127,\n",
       "         -9.46364103,  -2.81213673,  -3.75419368,   2.73669242,\n",
       "          2.82521689,   5.33669601,   8.96855594,   0.78955495,\n",
       "        -10.45367448,   1.94511755,  -2.37148685,   5.59650384,\n",
       "          2.2372891 ,  -0.21344846,   4.32291879,   2.47734606,\n",
       "         -0.29461924,   4.2581463 ,   1.27807079,  -3.82077373,\n",
       "         -5.47269373,  -3.81278763,   1.09798241,  -6.12140067,\n",
       "         -1.74452515,  -1.91979431,  -1.30205266,   2.08484501,\n",
       "         -6.95883756, -12.31436983,  -0.26154712,   8.78022785,\n",
       "          1.44288046,  -4.21133565,   2.85558981,   6.22879531,\n",
       "          9.61082512,  -1.87363961,  -5.96670507,  -3.15916633,\n",
       "          4.28906408,  -3.69196503,   4.23766243,  -5.0784559 ,\n",
       "         -8.04879079,  -2.07526188, -12.94364212,   5.60169837,\n",
       "         -0.66850255,  -4.68547451,  -6.95195537,   2.17926661,\n",
       "         -6.03801759,  -5.60641987,  -6.00859247,  -4.39526972,\n",
       "          7.3480307 ,   6.94590482,  -1.40537146,   6.37797327,\n",
       "          8.44473512,   7.60845124,  -9.08761576,   1.75627001]),\n",
       " array([ -7.54974276, -14.64147426,   0.65932133,  -9.48847699,\n",
       "          7.14313584,  -0.88717843,  -8.62471561,  -6.47076285,\n",
       "          3.40769847,  -4.39804983,  -9.79653861,  -5.40203591,\n",
       "         -0.2138252 ,   6.27438012,  -0.45110382,   2.1981078 ,\n",
       "          5.35470649,   6.2249768 ,   5.49213945,  -3.74501982,\n",
       "          7.80974495,  -3.38003593,   4.35391477,   0.65581406,\n",
       "          5.36959462,   4.95560489,  -4.10180448,  -5.9575222 ,\n",
       "         -6.1046724 ,  -7.31858569,   2.96102813,  -1.86386425,\n",
       "          0.49120018,  10.30381191,   0.07389198,  -7.29568496,\n",
       "         -2.72168385,   3.42126581,  -8.77087033,   1.4033941 ,\n",
       "         -9.13235825, -10.39929235,   4.83674623,  -5.77464447,\n",
       "          0.19596523,  -3.81848425,  -2.89182843,  -3.95290175,\n",
       "          9.06302636,   0.67577518,   3.23067862,   6.39971002,\n",
       "          5.72073385,   6.7351553 ,  -6.56989677,   1.54006623,\n",
       "          0.48830097,   1.84857016, -12.41602487,   1.03864612,\n",
       "         -5.61751795,  -9.99754089,   3.47526919,  -6.79418389,\n",
       "          5.2060216 ,   0.28085431,   9.91837183,  -2.28452842,\n",
       "         11.3890294 ,   3.40587002,   6.34999993,   3.15474704,\n",
       "         -0.60950947,  -2.42045241,  -2.14892418,  -7.74541189,\n",
       "          0.37334654, -12.31232416, -14.59586177,  -0.05677601,\n",
       "         -0.15314561,   3.320697  ,   0.17536258,  -3.93283319,\n",
       "         -9.74979513,  -9.20991775,   3.87899543,   6.60147838,\n",
       "         -7.11644687,  -2.72638603,  -5.56443924,  15.00787289,\n",
       "         -1.70245336,  -0.66104986, -11.70389744, -14.49660534,\n",
       "         -6.88721294,  -1.38723023,  -4.88742653,  -7.40146365]),\n",
       " array([ 5.95351396e+00,  1.45128017e+00,  4.27848324e+00,  2.77582317e+00,\n",
       "        -1.35936633e+01,  8.18942954e+00,  6.09681197e+00, -1.16477034e+00,\n",
       "         1.13764561e+01, -1.21328631e+01,  5.41229445e-01, -9.31571023e-01,\n",
       "         3.85862683e+00,  1.09237684e+01, -5.33944485e+00, -5.69473177e+00,\n",
       "         1.90427910e+00,  6.94565084e+00,  2.94674100e+00, -8.66976319e+00,\n",
       "        -1.72536866e+00,  2.93736162e+00,  4.56368062e+00, -8.36599241e+00,\n",
       "         1.50008660e+01, -1.68600046e+01,  3.27042373e+00, -4.19932911e+00,\n",
       "        -5.13997360e+00,  1.44427246e+01, -2.86454402e+00, -2.85582193e-01,\n",
       "        -4.65058111e+00, -5.14456726e+00, -7.39605231e-04, -1.10051010e+01,\n",
       "         2.30052888e+00,  1.02252111e+01, -7.60947406e+00, -1.52622718e+01,\n",
       "         2.66410557e+00,  1.37145070e+00,  7.95012001e+00, -1.76766208e+00,\n",
       "        -8.20875541e+00, -6.89283232e+00, -2.89764927e+00, -1.10167621e+01,\n",
       "         2.12934879e+00, -8.00791548e+00,  4.32086682e-01,  8.58963414e+00,\n",
       "         3.32380544e+00, -1.13498852e+01,  2.09151079e+00,  3.17884599e+00,\n",
       "         5.67504609e+00, -1.94297389e+00,  1.03460228e+01, -6.96628466e-01,\n",
       "         1.88181194e-01, -5.16151676e+00,  6.36460631e-01, -3.01960761e+00,\n",
       "        -6.43145263e+00,  1.69844823e+00,  4.86590519e+00,  4.26077073e+00,\n",
       "        -3.40272585e+00, -6.62078879e+00, -1.03524977e+01, -7.39697804e+00,\n",
       "         1.52353148e+01, -1.50029232e+00, -1.99553092e+00,  1.45925340e-01,\n",
       "         2.57208093e+00,  1.83786991e+00, -4.54256984e+00,  1.69541720e+00,\n",
       "        -5.03180581e+00,  9.16202854e+00, -1.12071942e+01, -2.85573434e+00,\n",
       "        -5.40889413e+00, -9.12895774e+00,  5.88125924e+00,  3.47864606e+00,\n",
       "         1.06956288e+01,  1.31597512e+01,  1.36754675e+01,  4.89352045e+00,\n",
       "         6.20756062e+00,  6.28136217e+00, -1.10148526e+01,  3.27052951e+00,\n",
       "         4.63800730e+00,  1.14280763e+01, -5.94681828e+00,  5.53623859e+00]),\n",
       " array([ -6.72214714,   1.58351037,  -3.83044597,  12.19339369,\n",
       "          4.24737064,   8.69760831,   4.59037527,   2.59298809,\n",
       "         -0.99333359,  -2.31712278,  -9.32704557,   4.57926946,\n",
       "          3.63552661,  -6.59186718, -10.86932548,  -1.05301326,\n",
       "        -10.11729608,   8.47106542, -19.36601276,   8.06354308,\n",
       "          3.01213116,  -3.28234811,  -4.64443656,  -8.66498625,\n",
       "         -0.19544369,   6.34672903,  16.35230012,  -4.25668036,\n",
       "         -1.27585533,   5.85549598,  -2.95003012,   5.6980347 ,\n",
       "          3.26218146, -11.45171822,   5.59528454,  -4.84937987,\n",
       "          3.41021426,   1.58802968, -13.05268484,  -9.26182908,\n",
       "         -6.57734208,   7.77164237,  -4.94641354,   6.55481107,\n",
       "          0.97363978,  -6.51265594,  -4.8042186 ,  -0.418555  ,\n",
       "         -9.10008363, -11.19815309, -17.01743095,  -1.49478713,\n",
       "          5.04465005,  -0.57288395,  -4.84837679,  -2.7944611 ,\n",
       "         -2.82366721, -13.05918755,   6.44691512,  -8.32106927,\n",
       "        -12.87422922,   5.44943741,  -4.21819746,   7.74151953,\n",
       "         -0.28026119,   2.34348203,   2.03329776,   5.03556055,\n",
       "          2.15523151,   8.83478072, -10.50732083, -11.96334478,\n",
       "         -3.11151467,   5.24707679,  -7.58339262,  -0.19853489,\n",
       "        -10.31138518,  -3.01932171, -13.21306172,   5.38949139,\n",
       "          1.77807538,   2.18857698,  -4.57896865, -12.08922096,\n",
       "         11.50831307,   7.19529736,  -6.93401347,  -0.65029634,\n",
       "          1.48846156,   2.09800609,  -6.22767826,  -3.02182714,\n",
       "         20.02146354,   1.25888987,   5.8546964 ,   3.10889679,\n",
       "         -3.54917435,  -0.22899249,   3.23480182,  -0.52385394]),\n",
       " array([  5.05278071,  -5.17813762,  -2.63760537,   1.79184568,\n",
       "         -9.27852667,  12.30192795,  -2.12674006,  -7.83083298,\n",
       "         -0.99538835,  23.42720305,  -6.96604258, -16.94153214,\n",
       "         -2.67930436,  -4.00742904,  -4.81134462,  -8.28521563,\n",
       "          9.31775849,  -6.4396169 ,  18.60655794,  -5.587681  ,\n",
       "          2.95062848,  10.69490336,   1.38230487,  -2.22251457,\n",
       "        -19.655971  ,   9.07018697,  -1.08840249, -15.29709701,\n",
       "         -5.11028476,   6.38726491,   8.1853082 ,  14.07122389,\n",
       "         10.97308467,  -8.98179023,   6.61468646, -10.90160849,\n",
       "         -3.91223109, -12.45802787,   0.83927693,  -3.12105851,\n",
       "          1.95765136,  -9.83081766,   5.50276258, -17.93454234,\n",
       "         -2.52741644,  -2.85747666,   1.22106663,  12.16238088,\n",
       "          7.48809402,  -0.5257036 ,   8.59188015,  -2.93568901,\n",
       "          5.41344264,   4.88876444,  -6.86276056,   4.80297681,\n",
       "         24.90984864, -11.19305302,   8.08459607,  -5.70508806,\n",
       "          5.3334335 ,   3.06084877,   7.7256521 ,  -9.45929497,\n",
       "          4.01658742,  12.8776187 ,   5.12887442,  11.27705566,\n",
       "         -6.7700919 ,   5.28598603, -12.62551158,   6.46299377,\n",
       "          8.61693001, -14.01828961,   4.9506354 ,  21.93641953,\n",
       "         13.71785036, -10.82368133,  -1.78037368,   3.60041271,\n",
       "         -8.89442991,  -6.12062168,  -8.59839851, -14.78509743,\n",
       "          3.05087147,   6.00617098,  -5.60280855,  -5.48322546,\n",
       "          4.07821453,  13.61045924,   9.86187997,  -9.95442776,\n",
       "         -1.22839624,   4.63670521, -14.31274612,  14.11847879,\n",
       "         -5.09932002,  -0.19300868,   8.34090094,  -6.2447304 ])]"
      ]
     },
     "execution_count": 85,
     "metadata": {},
     "output_type": "execute_result"
    }
   ],
   "source": [
    "data = [np.random.normal(0,std,100) for std in range(1,10)]\n",
    "data"
   ]
  },
  {
   "cell_type": "code",
   "execution_count": 87,
   "metadata": {},
   "outputs": [
    {
     "data": {
      "image/png": "[encoded data removed]",
      "text/plain": [
       "<Figure size 432x288 with 1 Axes>"
      ]
     },
     "metadata": {
      "needs_background": "light"
     },
     "output_type": "display_data"
    }
   ],
   "source": [
    "plt.boxplot(data,vert = True, patch_artist = True)\n",
    "plt.show()"
   ]
  },
  {
   "cell_type": "code",
   "execution_count": null,
   "metadata": {},
   "outputs": [],
   "source": []
  },
  {
   "cell_type": "code",
   "execution_count": 89,
   "metadata": {},
   "outputs": [
    {
     "data": {
      "image/png": "[encoded data removed]",
      "text/plain": [
       "<Figure size 720x288 with 2 Axes>"
      ]
     },
     "metadata": {
      "needs_background": "light"
     },
     "output_type": "display_data"
    }
   ],
   "source": [
    "fig , ax = plt.subplots(1,2,figsize=(10,4))\n",
    "\n",
    "ax[0].plot(x,y,x,y2)\n",
    "\n",
    "ax[1].plot(x,np.exp(x))\n",
    "ax[1].set_yscale('log')  # go as straight line\n",
    "\n",
    "fig.tight_layout()"
   ]
  },
  {
   "cell_type": "code",
   "execution_count": null,
   "metadata": {},
   "outputs": [],
   "source": []
  },
  {
   "cell_type": "code",
   "execution_count": 96,
   "metadata": {},
   "outputs": [
    {
     "data": {
      "image/png": "[encoded data removed]",
      "text/plain": [
       "<Figure size 720x360 with 1 Axes>"
      ]
     },
     "metadata": {
      "needs_background": "light"
     },
     "output_type": "display_data"
    }
   ],
   "source": [
    "fig , ax = plt.subplots(figsize=(10,5))\n",
    "ax.plot(x,y2,lw = 2)\n",
    "ax.set_xticks([1,2,3,4,5])\n",
    "ax.set_xticklabels([r'a',r'b',r'$\\gamma$',r'$\\delta$'],fontsize=18)\n",
    "\n",
    "ax.set_yticks([0,100,500,1000,1500,2000,2500])\n",
    "\n",
    "plt.show()"
   ]
  },
  {
   "cell_type": "code",
   "execution_count": 97,
   "metadata": {},
   "outputs": [],
   "source": [
    "from matplotlib import ticker"
   ]
  },
  {
   "cell_type": "code",
   "execution_count": 98,
   "metadata": {},
   "outputs": [
    {
     "data": {
      "image/png": "[encoded data removed]",
      "text/plain": [
       "<Figure size 432x288 with 1 Axes>"
      ]
     },
     "metadata": {
      "needs_background": "light"
     },
     "output_type": "display_data"
    }
   ],
   "source": [
    "fig , ax = plt.subplots()\n",
    "ax.plot(x,y2)\n",
    "ax.set_title('Scientific Notation')\n",
    "\n",
    "formatter = ticker.ScalarFormatter(useMathText=True)\n",
    "formatter.set_scientific(True)\n",
    "formatter.set_powerlimits((-1,2))\n",
    "ax.yaxis.set_major_formatter(formatter)\n"
   ]
  },
  {
   "cell_type": "code",
   "execution_count": null,
   "metadata": {},
   "outputs": [],
   "source": []
  },
  {
   "cell_type": "code",
   "execution_count": null,
   "metadata": {},
   "outputs": [],
   "source": []
  },
  {
   "cell_type": "code",
   "execution_count": null,
   "metadata": {},
   "outputs": [],
   "source": []
  },
  {
   "cell_type": "code",
   "execution_count": null,
   "metadata": {},
   "outputs": [],
   "source": []
  },
  {
   "cell_type": "code",
   "execution_count": null,
   "metadata": {},
   "outputs": [],
   "source": []
  }
 ],
 "metadata": {
  "kernelspec": {
   "display_name": "Python 3",
   "language": "python",
   "name": "python3"
  },
  "language_info": {
   "codemirror_mode": {
    "name": "ipython",
    "version": 3
   },
   "file_extension": ".py",
   "mimetype": "text/x-python",
   "name": "python",
   "nbconvert_exporter": "python",
   "pygments_lexer": "ipython3",
   "version": "3.7.4"
  }
 },
 "nbformat": 4,
 "nbformat_minor": 2
}
