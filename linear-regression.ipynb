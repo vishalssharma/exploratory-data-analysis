{
 "cells": [
  {
   "cell_type": "markdown",
   "metadata": {
    "ExecuteTime": {
     "end_time": "2019-07-13T03:28:20.690571Z",
     "start_time": "2019-07-13T03:28:20.687508Z"
    }
   },
   "source": [
    "This notebook demonstrates how we can build a working linear regression model using NumPy library only\n",
    "\n",
    "Assume we know X and y are linearly correlated"
   ]
  },
  {
   "cell_type": "markdown",
   "metadata": {},
   "source": [
    "# 1. Initialize"
   ]
  },
  {
   "cell_type": "code",
   "execution_count": 1,
   "metadata": {
    "ExecuteTime": {
     "end_time": "2019-07-13T05:53:04.001272Z",
     "start_time": "2019-07-13T05:53:02.607674Z"
    }
   },
   "outputs": [],
   "source": [
    "import numpy as np \n",
    "np.random.seed(42) # for reproducibility"
   ]
  },
  {
   "cell_type": "markdown",
   "metadata": {},
   "source": [
    "# 2. Generate data"
   ]
  },
  {
   "cell_type": "markdown",
   "metadata": {},
   "source": [
    "Make sure X and y are linearly correlated with normally distributed noise"
   ]
  },
  {
   "cell_type": "code",
   "execution_count": 2,
   "metadata": {
    "ExecuteTime": {
     "end_time": "2019-07-13T05:53:30.658718Z",
     "start_time": "2019-07-13T05:53:30.655157Z"
    }
   },
   "outputs": [],
   "source": [
    "n = 10000 # 10000 datum points\n",
    "X = np.random.uniform(-10,10, n) \n",
    "noise = np.random.normal(0, 3, n) # Gaussian distribution\n",
    "true_w, true_b = 7.6, -3.3"
   ]
  },
  {
   "cell_type": "code",
   "execution_count": 3,
   "metadata": {
    "ExecuteTime": {
     "end_time": "2019-07-13T05:53:59.353611Z",
     "start_time": "2019-07-13T05:53:59.350757Z"
    }
   },
   "outputs": [],
   "source": [
    "y = true_w * X + true_b + noise # y = w * x + b + ε"
   ]
  },
  {
   "cell_type": "code",
   "execution_count": 5,
   "metadata": {
    "ExecuteTime": {
     "end_time": "2019-07-13T05:54:06.347453Z",
     "start_time": "2019-07-13T05:54:06.134055Z"
    }
   },
   "outputs": [
    {
     "data": {
      "image/png": "[encoded data removed]",
      "text/plain": [
       "<Figure size 432x288 with 1 Axes>"
      ]
     },
     "metadata": {
      "needs_background": "light"
     },
     "output_type": "display_data"
    }
   ],
   "source": [
    "# Optional\n",
    "import matplotlib.pyplot as plt\n",
    "plt.scatter(X,y, s=1)\n",
    "plt.plot(X,true_w * X + true_b, 'red')\n",
    "plt.show()"
   ]
  },
  {
   "cell_type": "markdown",
   "metadata": {
    "ExecuteTime": {
     "end_time": "2019-07-13T03:38:01.470849Z",
     "start_time": "2019-07-13T03:38:01.467199Z"
    }
   },
   "source": [
    "# 3. Gradient Descent"
   ]
  },
  {
   "cell_type": "code",
   "execution_count": 6,
   "metadata": {
    "ExecuteTime": {
     "end_time": "2019-07-13T05:54:07.874858Z",
     "start_time": "2019-07-13T05:54:07.870031Z"
    }
   },
   "outputs": [],
   "source": [
    "def gradient_descent(X, y, w, b, learning_rate):\n",
    "    dw = -2 * np.sum(X * (y - w * X - b)) # ∂e/∂w\n",
    "    db = -2 * np.sum(y - w * X - b)       # ∂e/∂b\n",
    "    w_new = w - learning_rate * dw        # minus sign since we are minizing e\n",
    "    b_new = b - learning_rate * db\n",
    "    return w_new, b_new\n",
    "\n",
    "def get_loss(X,y,w,b):\n",
    "    return (y - w * X - b).T @ (y - w * X - b)   # square loss, \n",
    "    # .T and @ denote transpose and matrix multiplication resp."
   ]
  },
  {
   "cell_type": "code",
   "execution_count": 22,
   "metadata": {
    "ExecuteTime": {
     "end_time": "2019-07-13T06:00:56.923946Z",
     "start_time": "2019-07-13T06:00:56.867108Z"
    }
   },
   "outputs": [
    {
     "name": "stdout",
     "output_type": "stream",
     "text": [
      "103801\n",
      "91779\n",
      "90183\n",
      "89971\n",
      "89943\n",
      "89939\n",
      "89939\n",
      "89939\n",
      "89939\n",
      "89939\n",
      "y = 7.59 x - 3.26\n"
     ]
    }
   ],
   "source": [
    "learning_rate = 0.000001\n",
    "max_epoch = 500\n",
    "\n",
    "w, b = -1,0\n",
    "\n",
    "for epoch in range(1,max_epoch+1):\n",
    "    w,b = gradient_descent(X, y, w, b, learning_rate)\n",
    "    \n",
    "    if epoch % 50 == 0:\n",
    "        print(f'{get_loss(X,y,w,b):.0f}')\n",
    "\n",
    "if b > 0:\n",
    "    print(f'y = {w:.2f} x + {b:.2f}')\n",
    "else:\n",
    "    print(f'y = {w:.2f} x - {-b:.2f}')"
   ]
  },
  {
   "cell_type": "markdown",
   "metadata": {},
   "source": [
    "# 4. Verify using sklearn"
   ]
  },
  {
   "cell_type": "code",
   "execution_count": 21,
   "metadata": {
    "ExecuteTime": {
     "end_time": "2019-07-13T06:00:37.001434Z",
     "start_time": "2019-07-13T06:00:36.993307Z"
    }
   },
   "outputs": [
    {
     "name": "stdout",
     "output_type": "stream",
     "text": [
      "R^2 score: 0.995308982100681\n",
      "y = 7.59 x - 3.26\n"
     ]
    }
   ],
   "source": [
    "from sklearn.linear_model import LinearRegression\n",
    "\n",
    "reg = LinearRegression().fit(X.reshape(-1, 1), y.reshape(-1, 1))\n",
    "print(f'R^2 score: {reg.score(X.reshape(-1, 1), y.reshape(-1, 1))}')\n",
    "\n",
    "w, b = [np.asscalar(v) for v in [reg.coef_, reg.intercept_]]\n",
    "if b > 0:\n",
    "    print(f'y = {w:.2f} x + {b:.2f}')\n",
    "else:\n",
    "    print(f'y = {w:.2f} x - {-b:.2f}')"
   ]
  }
 ],
 "metadata": {
  "kernelspec": {
   "display_name": "Python 3",
   "language": "python",
   "name": "python3"
  },
  "language_info": {
   "codemirror_mode": {
    "name": "ipython",
    "version": 3
   },
   "file_extension": ".py",
   "mimetype": "text/x-python",
   "name": "python",
   "nbconvert_exporter": "python",
   "pygments_lexer": "ipython3",
   "version": "3.7.3"
  },
  "varInspector": {
   "cols": {
    "lenName": 16,
    "lenType": 16,
    "lenVar": 40
   },
   "kernels_config": {
    "python": {
     "delete_cmd_postfix": "",
     "delete_cmd_prefix": "del ",
     "library": "var_list.py",
     "varRefreshCmd": "print(var_dic_list())"
    },
    "r": {
     "delete_cmd_postfix": ") ",
     "delete_cmd_prefix": "rm(",
     "library": "var_list.r",
     "varRefreshCmd": "cat(var_dic_list()) "
    }
   },
   "types_to_exclude": [
    "module",
    "function",
    "builtin_function_or_method",
    "instance",
    "_Feature"
   ],
   "window_display": false
  }
 },
 "nbformat": 4,
 "nbformat_minor": 2
}
